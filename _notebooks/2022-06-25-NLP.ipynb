{
 "cells": [
  {
   "cell_type": "markdown",
   "id": "53c10427",
   "metadata": {},
   "source": [
    "# NLP-1\n",
    "> Natural language processing. Part 1.\n",
    "\n",
    "- toc: true \n",
    "- badges: true\n",
    "- comments: true\n",
    "- sticky_rank: 1\n",
    "- author: Igor Petrov\n",
    "- image: images/nlp.png\n",
    "- categories: [fastpages, jupyter]"
   ]
  },
  {
   "cell_type": "markdown",
   "id": "016326a3",
   "metadata": {},
   "source": [
    "text text text text\n",
    "text text text text\n",
    "text text text text\n",
    "text text text text\n",
    "text text text text\n",
    "text text text text\n",
    "text text text text\n",
    "text text text text\n",
    "text text text text\n",
    "text text text text\n",
    "text text text text\n"
   ]
  },
  {
   "cell_type": "markdown",
   "id": "28e02cdc",
   "metadata": {},
   "source": [
    "## Subtitle"
   ]
  },
  {
   "cell_type": "markdown",
   "id": "8208d55d",
   "metadata": {},
   "source": [
    "text text text texttext text text texttext text text texttext text text texttext text text texttext text text texttext text text texttext text text texttext text text texttext text text texttext text text texttext text text texttext text text texttext text text texttext text text texttext text text texttext text text texttext text text texttext text text texttext text text texttext text text texttext text text texttext text text texttext text text texttext text text texttext text text texttext text text texttext text text texttext text text texttext text text texttext text text texttext text text texttext text text texttext text text texttext text text texttext text text texttext text text texttext text text texttext text text texttext text text texttext text text texttext text text texttext text text texttext text text texttext text text texttext text text texttext text text text"
   ]
  },
  {
   "cell_type": "code",
   "execution_count": null,
   "id": "e6f80b55",
   "metadata": {},
   "outputs": [],
   "source": []
  }
 ],
 "metadata": {
  "kernelspec": {
   "display_name": "Python 3 (ipykernel)",
   "language": "python",
   "name": "python3"
  },
  "language_info": {
   "codemirror_mode": {
    "name": "ipython",
    "version": 3
   },
   "file_extension": ".py",
   "mimetype": "text/x-python",
   "name": "python",
   "nbconvert_exporter": "python",
   "pygments_lexer": "ipython3",
   "version": "3.9.12"
  }
 },
 "nbformat": 4,
 "nbformat_minor": 5
}
